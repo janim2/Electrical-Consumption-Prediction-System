{
 "cells": [
  {
   "cell_type": "code",
   "execution_count": 2,
   "metadata": {},
   "outputs": [],
   "source": [
    "\n",
    "# load and clean-up data\n",
    "from numpy import nan\n",
    "from numpy import isnan\n",
    "from pandas import read_csv\n",
    "from pandas import to_numeric\n",
    "from math import sqrt\n",
    "\n",
    "from numpy import split\n",
    "from numpy import array\n",
    "from matplotlib import pyplot\n",
    "from statsmodels.graphics.tsaplots import plot_acf\n",
    "from statsmodels.graphics.tsaplots import plot_pacf\n",
    "from statsmodels.tsa.arima_model import ARIMA\n",
    "from sklearn.metrics import mean_squared_error\n",
    " \n",
    "# fill missing values with a value at the same time one day ago\n",
    "def fill_missing(values):\n",
    "    one_day = 60 * 24\n",
    "    for row in range(values.shape[0]):\n",
    "        for col in range(values.shape[1]):\n",
    "            if isnan(values[row, col]):\n",
    "                values[row, col] = values[row - one_day, col]\n",
    " \n",
    "# load all data\n",
    "dataset = read_csv('household_power_consumption.txt', sep=';', header=0, low_memory=False, infer_datetime_format=True, parse_dates={'datetime':[0,1]}, index_col=['datetime'])\n",
    "# mark all missing values\n",
    "dataset.replace('?', nan, inplace=True)\n",
    "# make dataset numeric\n",
    "dataset = dataset.astype('float32')\n",
    "# fill missing\n",
    "fill_missing(dataset.values)\n",
    "# add a column for for the remainder of sub metering\n",
    "values = dataset.values\n",
    "dataset['sub_metering_4'] = (values[:,0] * 1000 / 60) - (values[:,4] + values[:,5] + values[:,6])\n",
    "# save updated dataset\n",
    "dataset.to_csv('household_power_consumption.csv')"
   ]
  },
  {
   "cell_type": "code",
   "execution_count": null,
   "metadata": {},
   "outputs": [],
   "source": []
  },
  {
   "cell_type": "code",
   "execution_count": 3,
   "metadata": {},
   "outputs": [
    {
     "name": "stdout",
     "output_type": "stream",
     "text": [
      "(1442, 8)\n",
      "            Global_active_power  Global_reactive_power    Voltage  \\\n",
      "datetime                                                            \n",
      "2006-12-16             1209.176                 34.922   93552.53   \n",
      "2006-12-17             3390.460                226.006  345725.32   \n",
      "2006-12-18             2203.826                161.792  347373.64   \n",
      "2006-12-19             1666.194                150.942  348479.01   \n",
      "2006-12-20             2225.748                160.998  348923.61   \n",
      "\n",
      "            Global_intensity  Sub_metering_1  Sub_metering_2  Sub_metering_3  \\\n",
      "datetime                                                                       \n",
      "2006-12-16            5180.8             0.0           546.0          4926.0   \n",
      "2006-12-17           14398.6          2033.0          4187.0         13341.0   \n",
      "2006-12-18            9247.2          1063.0          2621.0         14018.0   \n",
      "2006-12-19            7094.0           839.0          7602.0          6197.0   \n",
      "2006-12-20            9313.0             0.0          2648.0         14063.0   \n",
      "\n",
      "            sub_metering_4  \n",
      "datetime                    \n",
      "2006-12-16    14680.933319  \n",
      "2006-12-17    36946.666732  \n",
      "2006-12-18    19028.433281  \n",
      "2006-12-19    13131.900043  \n",
      "2006-12-20    20384.800011  \n"
     ]
    }
   ],
   "source": [
    "\n",
    "# load the new file\n",
    "dataset = read_csv('household_power_consumption.csv', header=0, infer_datetime_format=True, parse_dates=['datetime'], index_col=['datetime'])\n",
    "# resample data to daily\n",
    "daily_groups = dataset.resample('D')\n",
    "daily_data = daily_groups.sum()\n",
    "# summarize\n",
    "print(daily_data.shape)\n",
    "print(daily_data.head())\n",
    "# save\n",
    "daily_data.to_csv('household_power_consumption_days.csv')\n"
   ]
  },
  {
   "cell_type": "code",
   "execution_count": 6,
   "metadata": {},
   "outputs": [],
   "source": [
    "def evaluate_forecasts(actual, predicted):\n",
    "    scores = list()\n",
    "    # calculate an RMSE score for each day\n",
    "    for i in range(actual.shape[1]):\n",
    "        # calculate mse\n",
    "        mse = mean_squared_error(actual[:, i], predicted[:, i])\n",
    "        # calculate rmse\n",
    "        rmse = sqrt(mse)\n",
    "        # store\n",
    "        scores.append(rmse)\n",
    "    # calculate overall RMSE\n",
    "    s = 0\n",
    "    for row in range(actual.shape[0]):\n",
    "        for col in range(actual.shape[1]):\n",
    "            s += (actual[row, col] - predicted[row, col])**2\n",
    "    score = sqrt(s / (actual.shape[0] * actual.shape[1]))\n",
    "    return score, scores"
   ]
  },
  {
   "cell_type": "code",
   "execution_count": 59,
   "metadata": {},
   "outputs": [],
   "source": [
    "# split a univariate dataset into train/test sets\n",
    "def split_dataset(data):\n",
    "    # split into standard weeks\n",
    "    train, test = data[1:-328], data[-328:-6]\n",
    "    # restructure into windows of weekly data\n",
    "    train = array(split(train, len(train)/7))\n",
    "    test = array(split(test, len(test)/7))\n",
    "    print(test.shape)\n",
    "    print(test)\n",
    "    return train, test    "
   ]
  },
  {
   "cell_type": "code",
   "execution_count": 60,
   "metadata": {},
   "outputs": [],
   "source": [
    "# convert windows of weekly multivariate data into a series of total power\n",
    "def to_series(data):\n",
    "    # extract just the total power from each week\n",
    "    series = [week[:, 0] for week in data]\n",
    "    # flatten into a single series\n",
    "    series = array(series).flatten()\n",
    "    return series"
   ]
  },
  {
   "cell_type": "code",
   "execution_count": 61,
   "metadata": {},
   "outputs": [],
   "source": [
    "# evaluate a single model\n",
    "def evaluate_model(model_func, train, test):\n",
    "    # history is a list of weekly data\n",
    "    history = [x for x in train]\n",
    "    # walk-forward validation over each week\n",
    "    predictions = list()\n",
    "    for i in range(len(test)):\n",
    "        # predict the week\n",
    "        yhat_sequence = model_func(history)\n",
    "        # store the predictions\n",
    "        predictions.append(yhat_sequence)\n",
    "        # get real observation and add to history for predicting the next week\n",
    "        history.append(test[i, :])\n",
    "    predictions = array(predictions)\n",
    "    # evaluate predictions days for each week\n",
    "    score, scores = evaluate_forecasts(test[:, :, 0], predictions)\n",
    "    return score, scores"
   ]
  },
  {
   "cell_type": "code",
   "execution_count": 62,
   "metadata": {},
   "outputs": [],
   "source": [
    "# summarize scores\n",
    "def summarize_scores(name, score, scores):\n",
    "    s_scores = ', '.join(['%.1f' % s for s in scores])\n",
    "    print('%s: [%.3f] %s' % (name, score, s_scores))"
   ]
  },
  {
   "cell_type": "code",
   "execution_count": 63,
   "metadata": {},
   "outputs": [],
   "source": [
    "#convert windows of weekly multivariate data into a series of total power\n",
    "def to_series(data):\n",
    "    # extract just the total power from each week\n",
    "    series = [week[:, 0] for week in data]\n",
    "    # flatten into a single series\n",
    "    series = array(series).flatten()\n",
    "    return series"
   ]
  },
  {
   "cell_type": "code",
   "execution_count": 64,
   "metadata": {},
   "outputs": [],
   "source": [
    "# arima forecast\n",
    "def arima_forecast(history):\n",
    "    # convert history into a univariate series\n",
    "    series = to_series(history)\n",
    "    # define the model\n",
    "    model = ARIMA(series, order=(7,0,0))\n",
    "    # fit the model\n",
    "    model_fit = model.fit(disp=False)\n",
    "    # make forecast\n",
    "    yhat = model_fit.predict(len(series), len(series)+6)\n",
    "    return yhat"
   ]
  },
  {
   "cell_type": "code",
   "execution_count": 65,
   "metadata": {},
   "outputs": [],
   "source": [
    "# load the new file\n",
    "dataset = read_csv('household_power_consumption_days.csv', header=0, infer_datetime_format=True, parse_dates=['datetime'], index_col=['datetime'])"
   ]
  },
  {
   "cell_type": "code",
   "execution_count": 66,
   "metadata": {},
   "outputs": [
    {
     "name": "stdout",
     "output_type": "stream",
     "text": [
      "(46, 7, 8)\n",
      "[[[2.08345400e+03 1.91610000e+02 3.50992120e+05 ... 4.92000000e+03\n",
      "   1.00740000e+04 1.58882334e+04]\n",
      "  [1.60413200e+03 1.56404000e+02 3.53806730e+05 ... 2.92000000e+02\n",
      "   1.08120000e+04 1.56315333e+04]\n",
      "  [2.21978000e+03 1.48936000e+02 3.52110290e+05 ... 2.93000000e+02\n",
      "   1.64680000e+04 1.84503334e+04]\n",
      "  ...\n",
      "  [1.76944200e+03 1.15024000e+02 3.52668330e+05 ... 2.55000000e+02\n",
      "   1.29360000e+04 1.51017000e+04]\n",
      "  [1.79720800e+03 1.59780000e+02 3.51942930e+05 ... 9.94000000e+02\n",
      "   1.25310000e+04 1.64284667e+04]\n",
      "  [2.33690000e+03 1.99400000e+02 3.51172420e+05 ... 4.85500000e+03\n",
      "   1.47340000e+04 1.65783333e+04]]\n",
      "\n",
      " [[2.50846600e+03 2.27170000e+02 3.51130490e+05 ... 2.03200000e+03\n",
      "   1.41080000e+04 2.21037667e+04]\n",
      "  [1.51868400e+03 1.56206000e+02 3.54339520e+05 ... 3.40000000e+02\n",
      "   1.02790000e+04 1.34414000e+04]\n",
      "  [1.99579600e+03 2.02538000e+02 3.52730520e+05 ... 3.64300000e+03\n",
      "   1.25090000e+04 1.53082667e+04]\n",
      "  ...\n",
      "  [2.11622400e+03 2.39598000e+02 3.52565090e+05 ... 3.72700000e+03\n",
      "   1.24900000e+04 1.66114000e+04]\n",
      "  [2.19676000e+03 2.18290000e+02 3.50965100e+05 ... 2.95200000e+03\n",
      "   1.35460000e+04 1.81576666e+04]\n",
      "  [2.15011200e+03 2.42518000e+02 3.49985140e+05 ... 2.41500000e+03\n",
      "   1.36520000e+04 1.71632000e+04]]\n",
      "\n",
      " [[1.90655600e+03 1.88986000e+02 3.49261930e+05 ... 2.98000000e+02\n",
      "   1.50440000e+04 1.44419333e+04]\n",
      "  [1.88109800e+03 1.91772000e+02 3.50836370e+05 ... 2.95000000e+02\n",
      "   1.29810000e+04 1.74586333e+04]\n",
      "  [2.43350800e+03 1.61754000e+02 3.49953280e+05 ... 6.53000000e+02\n",
      "   1.93110000e+04 1.85504667e+04]\n",
      "  ...\n",
      "  [2.13785600e+03 1.85420000e+02 3.49849800e+05 ... 4.49000000e+02\n",
      "   1.64510000e+04 1.78369334e+04]\n",
      "  [1.79062600e+03 1.56858000e+02 3.48264250e+05 ... 3.52000000e+02\n",
      "   1.45120000e+04 1.42807667e+04]\n",
      "  [2.61033000e+03 2.60426000e+02 3.46791150e+05 ... 4.08600000e+03\n",
      "   1.60390000e+04 2.02265000e+04]]\n",
      "\n",
      " ...\n",
      "\n",
      " [[1.47643000e+03 2.08082000e+02 3.53513200e+05 ... 6.78000000e+02\n",
      "   5.58900000e+03 1.69101667e+04]\n",
      "  [1.38318000e+03 1.87086000e+02 3.54786620e+05 ... 6.34000000e+02\n",
      "   8.74600000e+03 1.36730000e+04]\n",
      "  [1.19108200e+03 1.86520000e+02 3.53933160e+05 ... 5.74000000e+02\n",
      "   5.78400000e+03 1.34933667e+04]\n",
      "  ...\n",
      "  [2.55514600e+03 2.52438000e+02 3.50139210e+05 ... 1.11930000e+04\n",
      "   1.02860000e+04 1.50777667e+04]\n",
      "  [1.73608800e+03 1.80498000e+02 3.51036050e+05 ... 7.90000000e+02\n",
      "   1.26100000e+04 1.55348000e+04]\n",
      "  [1.80540800e+03 1.93958000e+02 3.43339520e+05 ... 6.80000000e+02\n",
      "   9.80300000e+03 1.63521333e+04]]\n",
      "\n",
      " [[1.67381600e+03 1.74976000e+02 3.43348540e+05 ... 6.21000000e+02\n",
      "   6.94300000e+03 1.93069333e+04]\n",
      "  [1.82554000e+03 1.45656000e+02 3.42350010e+05 ... 5.55000000e+02\n",
      "   1.30380000e+04 1.57456667e+04]\n",
      "  [2.02209800e+03 1.54670000e+02 3.42414850e+05 ... 5.83000000e+02\n",
      "   1.25000000e+04 1.85216333e+04]\n",
      "  ...\n",
      "  [1.77359200e+03 1.52188000e+02 3.43769340e+05 ... 2.21600000e+03\n",
      "   6.25900000e+03 1.76608667e+04]\n",
      "  [1.83682200e+03 1.51144000e+02 3.43926570e+05 ... 4.89000000e+02\n",
      "   1.03080000e+04 1.77627000e+04]\n",
      "  [2.02317400e+03 1.62180000e+02 3.44639150e+05 ... 5.89000000e+02\n",
      "   1.38530000e+04 1.82265666e+04]]\n",
      "\n",
      " [[2.03839200e+03 2.03694000e+02 3.44562910e+05 ... 5.49000000e+02\n",
      "   8.75800000e+03 1.93222000e+04]\n",
      "  [1.74738200e+03 1.26716000e+02 3.44950910e+05 ... 4.22200000e+03\n",
      "   8.91800000e+03 1.49080333e+04]\n",
      "  [1.50974800e+03 1.33598000e+02 3.47324560e+05 ... 4.78000000e+02\n",
      "   7.94900000e+03 1.67354667e+04]\n",
      "  ...\n",
      "  [1.65215200e+03 2.06196000e+02 3.47064120e+05 ... 4.89000000e+02\n",
      "   9.44900000e+03 1.54228667e+04]\n",
      "  [1.57040000e+03 1.22928000e+02 3.45667330e+05 ... 4.83000000e+02\n",
      "   1.19140000e+04 1.37763333e+04]\n",
      "  [2.19700600e+03 1.53768000e+02 3.46476000e+05 ... 2.94700000e+03\n",
      "   1.14330000e+04 1.78697666e+04]]]\n"
     ]
    }
   ],
   "source": [
    "# split into train and test\n",
    "train, test = split_dataset(dataset.values)"
   ]
  },
  {
   "cell_type": "code",
   "execution_count": 58,
   "metadata": {},
   "outputs": [
    {
     "name": "stderr",
     "output_type": "stream",
     "text": [
      "/home/jesse/anaconda3/lib/python3.7/site-packages/scipy/signal/signaltools.py:1341: FutureWarning: Using a non-tuple sequence for multidimensional indexing is deprecated; use `arr[tuple(seq)]` instead of `arr[seq]`. In the future this will be interpreted as an array index, `arr[np.array(seq)]`, which will result either in an error or a different result.\n",
      "  out_full[ind] += zi\n",
      "/home/jesse/anaconda3/lib/python3.7/site-packages/scipy/signal/signaltools.py:1344: FutureWarning: Using a non-tuple sequence for multidimensional indexing is deprecated; use `arr[tuple(seq)]` instead of `arr[seq]`. In the future this will be interpreted as an array index, `arr[np.array(seq)]`, which will result either in an error or a different result.\n",
      "  out = out_full[ind]\n",
      "/home/jesse/anaconda3/lib/python3.7/site-packages/scipy/signal/signaltools.py:1350: FutureWarning: Using a non-tuple sequence for multidimensional indexing is deprecated; use `arr[tuple(seq)]` instead of `arr[seq]`. In the future this will be interpreted as an array index, `arr[np.array(seq)]`, which will result either in an error or a different result.\n",
      "  zf = out_full[ind]\n"
     ]
    },
    {
     "name": "stdout",
     "output_type": "stream",
     "text": [
      "arima: [381.581] 393.8, 398.9, 356.9, 377.1, 393.8, 306.0, 432.1\n"
     ]
    },
    {
     "data": {
      "image/png": "[encoded data removed]",
      "text/plain": [
       "<Figure size 432x288 with 1 Axes>"
      ]
     },
     "metadata": {
      "needs_background": "light"
     },
     "output_type": "display_data"
    }
   ],
   "source": [
    "# define the names and functions for the models we wish to evaluate\n",
    "models = dict()\n",
    "models['arima'] = arima_forecast\n",
    "# evaluate each model\n",
    "days = ['sun', 'mon', 'tue', 'wed', 'thr', 'fri', 'sat']\n",
    "for name, func in models.items():\n",
    "    # evaluate and get scores\n",
    "    score, scores = evaluate_model(func, train, test)\n",
    "    # summarize scores\n",
    "    summarize_scores(name, score, scores)\n",
    "    # plot scores\n",
    "    pyplot.plot(days, scores, marker='o', label=name)\n",
    "# show plot\n",
    "pyplot.legend()\n",
    "pyplot.show()"
   ]
  },
  {
   "cell_type": "code",
   "execution_count": null,
   "metadata": {},
   "outputs": [],
   "source": []
  }
 ],
 "metadata": {
  "kernelspec": {
   "display_name": "Python 3",
   "language": "python",
   "name": "python3"
  },
  "language_info": {
   "codemirror_mode": {
    "name": "ipython",
    "version": 3
   },
   "file_extension": ".py",
   "mimetype": "text/x-python",
   "name": "python",
   "nbconvert_exporter": "python",
   "pygments_lexer": "ipython3",
   "version": "3.7.1"
  }
 },
 "nbformat": 4,
 "nbformat_minor": 2
}

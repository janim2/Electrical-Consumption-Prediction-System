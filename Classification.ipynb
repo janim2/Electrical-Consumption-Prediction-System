{
  "nbformat": 4,
  "nbformat_minor": 0,
  "metadata": {
    "colab": {
      "name": "Classification",
      "version": "0.3.2",
      "provenance": []
    },
    "kernelspec": {
      "name": "python3",
      "display_name": "Python 3"
    }
  },
  "cells": [
    {
      "cell_type": "code",
      "metadata": {
        "id": "Mqlm6dRmxy5w",
        "colab_type": "code",
        "colab": {}
      },
      "source": [
        "import tensorflow as tf\n",
        "import numpy as np\n",
        "import matplotlib.pyplot as plt"
      ],
      "execution_count": 0,
      "outputs": []
    },
    {
      "cell_type": "code",
      "metadata": {
        "id": "RpLxPQNtZDpQ",
        "colab_type": "code",
        "outputId": "0d8a926d-0c7f-4c5b-cee1-7f3d2627cb78",
        "colab": {
          "base_uri": "https://localhost:8080/",
          "height": 350
        }
      },
      "source": [
        "(x_train, y_train),(x_test, y_test) = tf.keras.datasets.mnist.load_data()\n",
        "x_train, x_test = x_train / 255.0, x_test / 255.0\n",
        "\n",
        "model = tf.keras.models.Sequential([\n",
        "  tf.keras.layers.Flatten(input_shape=(28, 28)),\n",
        "  tf.keras.layers.Dense(512, activation=tf.nn.relu),\n",
        "  tf.keras.layers.Dropout(0.2),\n",
        "  tf.keras.layers.Dense(10, activation=tf.nn.softmax)\n",
        "])\n",
        "model.compile(optimizer='adam',\n",
        "              loss='sparse_categorical_crossentropy',\n",
        "              metrics=['accuracy'])\n",
        "\n",
        "model.fit(x_train, y_train, epochs=4)\n",
        "model.evaluate(x_test, y_test)\n",
        "predictions = model.predict(x_test)\n",
        "print(predictions[0])\n",
        "print(\"The predicted value is: \", np.argmax(predictions[0]) )"
      ],
      "execution_count": 4,
      "outputs": [
        {
          "output_type": "stream",
          "text": [
            "Downloading data from https://storage.googleapis.com/tensorflow/tf-keras-datasets/mnist.npz\n",
            "11493376/11490434 [==============================] - 0s 0us/step\n"
          ],
          "name": "stdout"
        },
        {
          "output_type": "stream",
          "text": [
            "WARNING: Logging before flag parsing goes to stderr.\n",
            "W0824 16:09:41.828875 140450360637312 deprecation.py:506] From /usr/local/lib/python3.6/dist-packages/tensorflow/python/ops/init_ops.py:1251: calling VarianceScaling.__init__ (from tensorflow.python.ops.init_ops) with dtype is deprecated and will be removed in a future version.\n",
            "Instructions for updating:\n",
            "Call initializer instance with the dtype argument instead of passing it to the constructor\n"
          ],
          "name": "stderr"
        },
        {
          "output_type": "stream",
          "text": [
            "Epoch 1/4\n",
            "60000/60000 [==============================] - 12s 201us/sample - loss: 0.2182 - acc: 0.9355\n",
            "Epoch 2/4\n",
            "60000/60000 [==============================] - 12s 193us/sample - loss: 0.0963 - acc: 0.9708\n",
            "Epoch 3/4\n",
            "60000/60000 [==============================] - 12s 199us/sample - loss: 0.0688 - acc: 0.9785\n",
            "Epoch 4/4\n",
            "60000/60000 [==============================] - 12s 194us/sample - loss: 0.0548 - acc: 0.9825\n",
            "10000/10000 [==============================] - 1s 87us/sample - loss: 0.0733 - acc: 0.9780\n",
            "[9.2004271e-08 6.5734305e-08 2.0394925e-06 7.5960808e-05 8.7095088e-12\n",
            " 3.2452252e-07 2.5221179e-11 9.9991071e-01 2.5257226e-08 1.0764249e-05]\n",
            "The predicted value is:  7\n"
          ],
          "name": "stdout"
        }
      ]
    },
    {
      "cell_type": "code",
      "metadata": {
        "id": "gCs7Ibpvufvn",
        "colab_type": "code",
        "outputId": "4205dcf6-c2d0-4bad-9c8e-7ad3f818ea4d",
        "colab": {
          "base_uri": "https://localhost:8080/",
          "height": 69
        }
      },
      "source": [
        "predictions[0]"
      ],
      "execution_count": 5,
      "outputs": [
        {
          "output_type": "execute_result",
          "data": {
            "text/plain": [
              "array([9.2004271e-08, 6.5734305e-08, 2.0394925e-06, 7.5960808e-05,\n",
              "       8.7095088e-12, 3.2452252e-07, 2.5221179e-11, 9.9991071e-01,\n",
              "       2.5257226e-08, 1.0764249e-05], dtype=float32)"
            ]
          },
          "metadata": {
            "tags": []
          },
          "execution_count": 5
        }
      ]
    },
    {
      "cell_type": "code",
      "metadata": {
        "id": "sObtBRM7xbfR",
        "colab_type": "code",
        "outputId": "3db01672-f2eb-48b4-ca11-ed9d66523fff",
        "colab": {
          "base_uri": "https://localhost:8080/",
          "height": 697
        }
      },
      "source": [
        "[print(np.argmax(predictions[i])) for i in range(1, 11)]\n",
        "fig = plt.figure(figsize=(12, 12))\n",
        "for i in range(1, 11):\n",
        "  fig.add_subplot(2, 5, i)\n",
        "  plt.imshow(x_test[i])\n",
        "plt.show() "
      ],
      "execution_count": 11,
      "outputs": [
        {
          "output_type": "stream",
          "text": [
            "2\n",
            "1\n",
            "0\n",
            "4\n",
            "1\n",
            "4\n",
            "9\n",
            "5\n",
            "9\n",
            "0\n"
          ],
          "name": "stdout"
        },
        {
          "output_type": "display_data",
          "data": {
            "image/png": "[encoded data removed]",
            "text/plain": [
              "<Figure size 864x864 with 10 Axes>"
            ]
          },
          "metadata": {
            "tags": []
          }
        }
      ]
    },
    {
      "cell_type": "code",
      "metadata": {
        "id": "JI5B4ONX2Xz3",
        "colab_type": "code",
        "colab": {}
      },
      "source": [
        ""
      ],
      "execution_count": 0,
      "outputs": []
    },
    {
      "cell_type": "code",
      "metadata": {
        "id": "xi9S0Obw2aRJ",
        "colab_type": "code",
        "colab": {}
      },
      "source": [
        ""
      ],
      "execution_count": 0,
      "outputs": []
    },
    {
      "cell_type": "code",
      "metadata": {
        "id": "ELJ-uEPl25z-",
        "colab_type": "code",
        "colab": {}
      },
      "source": [
        ""
      ],
      "execution_count": 0,
      "outputs": []
    }
  ]
}
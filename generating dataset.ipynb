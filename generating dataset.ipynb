{
 "cells": [
  {
   "cell_type": "markdown",
   "metadata": {},
   "source": [
    "# How To Generate Training Set"
   ]
  },
  {
   "cell_type": "code",
   "execution_count": null,
   "metadata": {},
   "outputs": [],
   "source": []
  },
  {
   "cell_type": "code",
   "execution_count": 6,
   "metadata": {},
   "outputs": [
    {
     "name": "stdout",
     "output_type": "stream",
     "text": [
      "[[837, 4, 635], [418, 769, 789], [783, 676, 212], [832, 326, 378], [595, 198, 720], [875, 180, 707], [438, 842, 881], [355, 441, 515], [722, 723, 288], [277, 386, 545], [55, 223, 807], [307, 903, 386], [772, 582, 705], [963, 226, 734], [715, 187, 728], [223, 35, 902], [73, 309, 783], [674, 218, 930], [407, 88, 882], [528, 324, 931], [995, 797, 677], [36, 161, 790], [685, 34, 772], [923, 319, 135], [590, 224, 812], [738, 941, 982], [339, 946, 39], [12, 136, 385], [13, 323, 213], [474, 525, 822], [225, 700, 139], [338, 988, 670], [942, 951, 842], [809, 818, 785], [830, 1000, 413], [784, 379, 68], [313, 413, 554], [110, 913, 927], [730, 333, 10], [729, 861, 295], [761, 505, 954], [968, 815, 456], [227, 643, 475], [618, 230, 859], [780, 996, 100], [858, 821, 198], [490, 381, 263], [635, 960, 81], [319, 678, 911], [833, 715, 86], [202, 345, 315], [226, 959, 349], [948, 838, 163], [219, 754, 303], [626, 855, 761], [17, 135, 884], [879, 188, 575], [363, 850, 773], [815, 324, 133], [453, 840, 653], [915, 658, 912], [163, 923, 187], [457, 968, 755], [482, 690, 772], [285, 780, 55], [765, 191, 243], [562, 157, 106], [720, 679, 954], [825, 71, 702], [799, 954, 755], [30, 427, 687], [22, 367, 663], [363, 246, 905], [909, 514, 156], [600, 360, 702], [841, 611, 256], [932, 986, 860], [949, 906, 539], [696, 104, 679], [845, 24, 889], [969, 765, 505], [828, 456, 382], [910, 4, 574], [835, 453, 912], [803, 890, 553], [756, 754, 32], [407, 396, 475], [154, 743, 635], [674, 297, 609], [336, 501, 763], [522, 623, 215], [515, 206, 7], [393, 870, 751], [922, 474, 29], [545, 18, 668], [261, 815, 105], [633, 777, 264], [396, 267, 681], [855, 543, 260], [346, 529, 629]]\n"
     ]
    }
   ],
   "source": [
    "from random import randint\n",
    "TRAIN_SET_LIMIT = 1000\n",
    "TRAIN_SET_COUNT = 100\n",
    "\n",
    "TRAIN_INPUT = list()\n",
    "TRAIN_OUTPUT = list()\n",
    "for i in range(TRAIN_SET_COUNT):\n",
    "    a = randint(0, TRAIN_SET_LIMIT)\n",
    "    b = randint(0, TRAIN_SET_LIMIT)\n",
    "    c = randint(0, TRAIN_SET_LIMIT)\n",
    "    op = a + (2*b) + (3*c)\n",
    "    TRAIN_INPUT.append([a, b, c])\n",
    "    TRAIN_OUTPUT.append(op)\n",
    "    \n",
    "print(TRAIN_INPUT)"
   ]
  },
  {
   "cell_type": "markdown",
   "metadata": {},
   "source": [
    "# Train The Model"
   ]
  },
  {
   "cell_type": "code",
   "execution_count": 2,
   "metadata": {},
   "outputs": [
    {
     "data": {
      "text/plain": [
       "LinearRegression(copy_X=True, fit_intercept=True, n_jobs=1, normalize=False)"
      ]
     },
     "execution_count": 2,
     "metadata": {},
     "output_type": "execute_result"
    }
   ],
   "source": [
    "from sklearn.linear_model import LinearRegression\n",
    "\n",
    "predictor = LinearRegression(n_jobs=1)\n",
    "predictor.fit(X=TRAIN_INPUT, y=TRAIN_OUTPUT)"
   ]
  },
  {
   "cell_type": "markdown",
   "metadata": {},
   "source": [
    "# Test Data"
   ]
  },
  {
   "cell_type": "code",
   "execution_count": 3,
   "metadata": {},
   "outputs": [
    {
     "name": "stdout",
     "output_type": "stream",
     "text": [
      "Outcome : [250.  90.]\n",
      "Coefficients : [1. 2. 3.]\n"
     ]
    }
   ],
   "source": [
    "X_TEST = [[20, 40, 50],[10,10,20]]\n",
    "outcome = predictor.predict(X=X_TEST)\n",
    "coefficients = predictor.coef_\n",
    "\n",
    "print('Outcome : {}\\nCoefficients : {}'.format(outcome, coefficients))"
   ]
  },
  {
   "cell_type": "code",
   "execution_count": 4,
   "metadata": {},
   "outputs": [],
   "source": [
    "import numpy as np \n",
    "import pandas as pd \n",
    "import matplotlib.pyplot as plt"
   ]
  },
  {
   "cell_type": "code",
   "execution_count": 5,
   "metadata": {},
   "outputs": [
    {
     "data": {
      "image/png": "[encoded data removed]",
      "text/plain": [
       "<Figure size 432x288 with 1 Axes>"
      ]
     },
     "metadata": {
      "needs_background": "light"
     },
     "output_type": "display_data"
    }
   ],
   "source": [
    "#Visualizing the training Test Results \n",
    "TRAIN_INPUT_AVERAGE = [ sum(row)/3 for row in TRAIN_INPUT] \n",
    "\n",
    "plt.scatter(TRAIN_INPUT_AVERAGE , TRAIN_OUTPUT, color= 'red') \n",
    "\n",
    "plt.title (\"Visuals for Training Dataset\")\n",
    "plt.xlabel(\"TRAIN_INPUT\")\n",
    "plt.ylabel(\"TRAIN_OUTPUT\")\n",
    "plt.show()"
   ]
  },
  {
   "cell_type": "code",
   "execution_count": null,
   "metadata": {},
   "outputs": [],
   "source": []
  }
 ],
 "metadata": {
  "kernelspec": {
   "display_name": "Python 3",
   "language": "python",
   "name": "python3"
  },
  "language_info": {
   "codemirror_mode": {
    "name": "ipython",
    "version": 3
   },
   "file_extension": ".py",
   "mimetype": "text/x-python",
   "name": "python",
   "nbconvert_exporter": "python",
   "pygments_lexer": "ipython3",
   "version": "3.7.1"
  }
 },
 "nbformat": 4,
 "nbformat_minor": 2
}
